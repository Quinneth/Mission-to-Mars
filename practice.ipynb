{
 "cells": [
  {
   "cell_type": "code",
   "execution_count": 1,
   "metadata": {},
   "outputs": [],
   "source": [
    "# import the tools Splinter and BeautifulSoup.\n",
    "# alias, \"soup,\" to simplify our code a bit when we reference it later.\n",
    "from splinter import Browser\n",
    "from bs4 import BeautifulSoup as soup"
   ]
  },
  {
   "cell_type": "code",
   "execution_count": 4,
   "metadata": {},
   "outputs": [
    {
     "name": "stdout",
     "output_type": "stream",
     "text": [
      "/usr/local/bin/chromedriver\r\n"
     ]
    }
   ],
   "source": [
    "# Path to chromedriver\n",
    "!which chromedriver"
   ]
  },
  {
   "cell_type": "code",
   "execution_count": 8,
   "metadata": {},
   "outputs": [],
   "source": [
    "# set the executable path and initialize a browser.\n",
    "# executable_path is unpacking the dictionary we've stored the path in\n",
    "# headless=False means that all of the browser's actions will be displayed in a Chrome window so we can see them.\n",
    "executable_path = {'executable_path': '/usr/local/bin/chromedriver'}\n",
    "browser = Browser('chrome', **executable_path, headless=False)"
   ]
  },
  {
   "cell_type": "code",
   "execution_count": 9,
   "metadata": {},
   "outputs": [],
   "source": [
    "# Visit the Quotes to Scrape site\n",
    "# code tells Splinter which site we want to visit by assigning the link to a URL\n",
    "url = 'http://quotes.toscrape.com/'\n",
    "browser.visit(url)"
   ]
  },
  {
   "cell_type": "code",
   "execution_count": 10,
   "metadata": {},
   "outputs": [],
   "source": [
    "# use BeautifulSoup to parse  the HTML\n",
    "# means that BeautifulSoup has taken a look at the different components and can now access them\n",
    "# BeautifulSoup parses the HTML text and then stores it as an object.\n",
    "html = browser.html\n",
    "html_soup = soup(html, 'html.parser')"
   ]
  },
  {
   "cell_type": "code",
   "execution_count": 11,
   "metadata": {},
   "outputs": [
    {
     "data": {
      "text/plain": [
       "'Top Ten tags'"
      ]
     },
     "execution_count": 11,
     "metadata": {},
     "output_type": "execute_result"
    }
   ],
   "source": [
    "# Scrape the Title\n",
    "# use our html_soup object we created earlier and chained find() to it to search for the <h2 /> tag.\n",
    "# extracted only the text within the HTML tags by adding .text to the end of the code.\n",
    "title = html_soup.find('h2').text\n",
    "title"
   ]
  },
  {
   "cell_type": "code",
   "execution_count": 12,
   "metadata": {},
   "outputs": [
    {
     "name": "stdout",
     "output_type": "stream",
     "text": [
      "love\n",
      "inspirational\n",
      "life\n",
      "humor\n",
      "books\n",
      "reading\n",
      "friendship\n",
      "friends\n",
      "truth\n",
      "simile\n"
     ]
    }
   ],
   "source": [
    "# Scrape the top ten tags\n",
    "tag_box = html_soup.find('div', class_='tags-box')\n",
    "# tag_box\n",
    "tags = tag_box.find_all('a', class_='tag')\n",
    "\n",
    "for tag in tags:\n",
    "    word = tag.text\n",
    "    print(word)"
   ]
  },
  {
   "cell_type": "code",
   "execution_count": 14,
   "metadata": {},
   "outputs": [],
   "source": [
    "# assign an actual URL to the variable named \"url\" and then tell Splinter to visit that\n",
    "# webpage \n",
    "url = 'http://quotes.toscrape.com/'\n",
    "browser.visit(url)"
   ]
  },
  {
   "cell_type": "code",
   "execution_count": 18,
   "metadata": {},
   "outputs": [
    {
     "name": "stdout",
     "output_type": "stream",
     "text": [
      "page: 1 ----------\n",
      "“The world as we have created it is a process of our thinking. It cannot be changed without changing our thinking.”\n",
      "page: 1 ----------\n",
      "“It is our choices, Harry, that show what we truly are, far more than our abilities.”\n",
      "page: 1 ----------\n",
      "“There are only two ways to live your life. One is as though nothing is a miracle. The other is as though everything is a miracle.”\n",
      "page: 1 ----------\n",
      "“The person, be it gentleman or lady, who has not pleasure in a good novel, must be intolerably stupid.”\n",
      "page: 1 ----------\n",
      "“Imperfection is beauty, madness is genius and it's better to be absolutely ridiculous than absolutely boring.”\n",
      "page: 1 ----------\n",
      "“Try not to become a man of success. Rather become a man of value.”\n",
      "page: 1 ----------\n",
      "“It is better to be hated for what you are than to be loved for what you are not.”\n",
      "page: 1 ----------\n",
      "“I have not failed. I've just found 10,000 ways that won't work.”\n",
      "page: 1 ----------\n",
      "“A woman is like a tea bag; you never know how strong it is until it's in hot water.”\n",
      "page: 1 ----------\n",
      "“A day without sunshine is like, you know, night.”\n",
      "page: 2 ----------\n",
      "“The world as we have created it is a process of our thinking. It cannot be changed without changing our thinking.”\n",
      "page: 2 ----------\n",
      "“It is our choices, Harry, that show what we truly are, far more than our abilities.”\n",
      "page: 2 ----------\n",
      "“There are only two ways to live your life. One is as though nothing is a miracle. The other is as though everything is a miracle.”\n",
      "page: 2 ----------\n",
      "“The person, be it gentleman or lady, who has not pleasure in a good novel, must be intolerably stupid.”\n",
      "page: 2 ----------\n",
      "“Imperfection is beauty, madness is genius and it's better to be absolutely ridiculous than absolutely boring.”\n",
      "page: 2 ----------\n",
      "“Try not to become a man of success. Rather become a man of value.”\n",
      "page: 2 ----------\n",
      "“It is better to be hated for what you are than to be loved for what you are not.”\n",
      "page: 2 ----------\n",
      "“I have not failed. I've just found 10,000 ways that won't work.”\n",
      "page: 2 ----------\n",
      "“A woman is like a tea bag; you never know how strong it is until it's in hot water.”\n",
      "page: 2 ----------\n",
      "“A day without sunshine is like, you know, night.”\n",
      "page: 3 ----------\n",
      "“The world as we have created it is a process of our thinking. It cannot be changed without changing our thinking.”\n",
      "page: 3 ----------\n",
      "“It is our choices, Harry, that show what we truly are, far more than our abilities.”\n",
      "page: 3 ----------\n",
      "“There are only two ways to live your life. One is as though nothing is a miracle. The other is as though everything is a miracle.”\n",
      "page: 3 ----------\n",
      "“The person, be it gentleman or lady, who has not pleasure in a good novel, must be intolerably stupid.”\n",
      "page: 3 ----------\n",
      "“Imperfection is beauty, madness is genius and it's better to be absolutely ridiculous than absolutely boring.”\n",
      "page: 3 ----------\n",
      "“Try not to become a man of success. Rather become a man of value.”\n",
      "page: 3 ----------\n",
      "“It is better to be hated for what you are than to be loved for what you are not.”\n",
      "page: 3 ----------\n",
      "“I have not failed. I've just found 10,000 ways that won't work.”\n",
      "page: 3 ----------\n",
      "“A woman is like a tea bag; you never know how strong it is until it's in hot water.”\n",
      "page: 3 ----------\n",
      "“A day without sunshine is like, you know, night.”\n",
      "page: 4 ----------\n",
      "“The world as we have created it is a process of our thinking. It cannot be changed without changing our thinking.”\n",
      "page: 4 ----------\n",
      "“It is our choices, Harry, that show what we truly are, far more than our abilities.”\n",
      "page: 4 ----------\n",
      "“There are only two ways to live your life. One is as though nothing is a miracle. The other is as though everything is a miracle.”\n",
      "page: 4 ----------\n",
      "“The person, be it gentleman or lady, who has not pleasure in a good novel, must be intolerably stupid.”\n",
      "page: 4 ----------\n",
      "“Imperfection is beauty, madness is genius and it's better to be absolutely ridiculous than absolutely boring.”\n",
      "page: 4 ----------\n",
      "“Try not to become a man of success. Rather become a man of value.”\n",
      "page: 4 ----------\n",
      "“It is better to be hated for what you are than to be loved for what you are not.”\n",
      "page: 4 ----------\n",
      "“I have not failed. I've just found 10,000 ways that won't work.”\n",
      "page: 4 ----------\n",
      "“A woman is like a tea bag; you never know how strong it is until it's in hot water.”\n",
      "page: 4 ----------\n",
      "“A day without sunshine is like, you know, night.”\n",
      "page: 5 ----------\n",
      "“The world as we have created it is a process of our thinking. It cannot be changed without changing our thinking.”\n",
      "page: 5 ----------\n",
      "“It is our choices, Harry, that show what we truly are, far more than our abilities.”\n",
      "page: 5 ----------\n",
      "“There are only two ways to live your life. One is as though nothing is a miracle. The other is as though everything is a miracle.”\n",
      "page: 5 ----------\n",
      "“The person, be it gentleman or lady, who has not pleasure in a good novel, must be intolerably stupid.”\n",
      "page: 5 ----------\n",
      "“Imperfection is beauty, madness is genius and it's better to be absolutely ridiculous than absolutely boring.”\n",
      "page: 5 ----------\n",
      "“Try not to become a man of success. Rather become a man of value.”\n",
      "page: 5 ----------\n",
      "“It is better to be hated for what you are than to be loved for what you are not.”\n",
      "page: 5 ----------\n",
      "“I have not failed. I've just found 10,000 ways that won't work.”\n",
      "page: 5 ----------\n",
      "“A woman is like a tea bag; you never know how strong it is until it's in hot water.”\n",
      "page: 5 ----------\n",
      "“A day without sunshine is like, you know, night.”\n"
     ]
    }
   ],
   "source": [
    "# create a for loop to collect each quote, \"click\" the next button, \n",
    "# then collect the next set of quotes. We'll use range(1, 6) in our for loop \n",
    "# to visit the first five pages of the website.\n",
    "for x in range(1, 6):\n",
    "   html = browser.html\n",
    "   quote_soup = soup (html, 'html.parser')\n",
    "   quotes = quote_soup.find_all('span', class_='text')\n",
    "   for quote in quotes:\n",
    "      print('page:', x, '----------')\n",
    "      print(quote.text)\n",
    "   browser.links.find_by_partial_text('Next')"
   ]
  },
  {
   "cell_type": "markdown",
   "metadata": {},
   "source": [
    "# 10.3.3  \n"
   ]
  }
 ],
 "metadata": {
  "kernelspec": {
   "name": "python3",
   "display_name": "Python 2.7.16 64-bit",
   "metadata": {
    "interpreter": {
     "hash": "767d51c1340bd893661ea55ea3124f6de3c7a262a8b4abca0554b478b1e2ff90"
    }
   }
  },
  "language_info": {
   "codemirror_mode": {
    "name": "ipython",
    "version": 3
   },
   "file_extension": ".py",
   "mimetype": "text/x-python",
   "name": "python",
   "nbconvert_exporter": "python",
   "pygments_lexer": "ipython3",
   "version": "2.7.16-final"
  }
 },
 "nbformat": 4,
 "nbformat_minor": 4
}